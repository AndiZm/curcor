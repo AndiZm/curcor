{
 "cells": [
  {
   "cell_type": "code",
   "execution_count": 1,
   "id": "2f8800d3",
   "metadata": {},
   "outputs": [],
   "source": [
    "import numpy as np\n",
    "import matplotlib.pyplot as plt\n",
    "import matplotlib as mpl  \n",
    "from scipy.optimize import curve_fit\n",
    "from scipy.signal import butter, filtfilt, find_peaks\n",
    "import scipy.stats as stats\n",
    "from matplotlib.pyplot import cm\n",
    "import ephem\n",
    "import scipy.special as scp\n",
    "import sys\n",
    "from brokenaxes import brokenaxes\n",
    "from matplotlib.gridspec import GridSpec\n",
    "\n",
    "import utilities as uti\n",
    "import corrections as cor\n",
    "import geometry as geo\n",
    "\n",
    "from ldtk import LDPSetCreator, BoxcarFilter"
   ]
  },
  {
   "cell_type": "code",
   "execution_count": 2,
   "id": "99adb7cd",
   "metadata": {},
   "outputs": [],
   "source": [
    "filters = [BoxcarFilter('a', 465, 475),\t# Define your passbands\n",
    "\t\t   BoxcarFilter('b', 370, 380)]\t# - Boxcar filters useful in transmission spectroscopy\n"
   ]
  },
  {
   "cell_type": "code",
   "execution_count": 5,
   "id": "0f7902ed",
   "metadata": {},
   "outputs": [
    {
     "ename": "QhullError",
     "evalue": "QH6013 qhull input error: input is less than 4-dimensional since all points have the same x coordinate 1.2e+04\n\nWhile executing:  | qhull d Q12 Qt Qz Qc Qbb\nOptions selected for Qhull 2019.1.r 2019/06/21:\n  run-id 1984244499  delaunay  Q12-allow-wide  Qtriangulate  Qz-infinity-point\n  Qcoplanar-keep  Qbbound-last  _pre-merge  _zero-centrum  Qinterior-keep\n  Pgood  _max-width  1  Error-roundoff 2.4e-11  _one-merge 2.2e-10\n  Visible-distance 1.5e-10  U-max-coplanar 1.5e-10  Width-outside 2.9e-10\n  _wide-facet 8.7e-10  _maxoutside 2.9e-10\n",
     "output_type": "error",
     "traceback": [
      "\u001b[1;31m---------------------------------------------------------------------------\u001b[0m",
      "\u001b[1;31mQhullError\u001b[0m                                Traceback (most recent call last)",
      "Input \u001b[1;32mIn [5]\u001b[0m, in \u001b[0;36m<cell line: 1>\u001b[1;34m()\u001b[0m\n\u001b[1;32m----> 1\u001b[0m sc \u001b[38;5;241m=\u001b[39m \u001b[43mLDPSetCreator\u001b[49m\u001b[43m(\u001b[49m\u001b[43mteff\u001b[49m\u001b[38;5;241;43m=\u001b[39;49m\u001b[43m(\u001b[49m\u001b[38;5;241;43m27000\u001b[39;49m\u001b[43m,\u001b[49m\u001b[43m \u001b[49m\u001b[38;5;241;43m1000\u001b[39;49m\u001b[43m)\u001b[49m\u001b[43m,\u001b[49m\u001b[43m    \u001b[49m\u001b[38;5;66;43;03m# Define your star, and the code downloads the uncached stellar spectra from the Husser et al.\u001b[39;49;00m\n\u001b[0;32m      2\u001b[0m \u001b[43m                   \u001b[49m\u001b[43mlogg\u001b[49m\u001b[38;5;241;43m=\u001b[39;49m\u001b[43m(\u001b[49m\u001b[38;5;241;43m3.60\u001b[39;49m\u001b[43m,\u001b[49m\u001b[43m \u001b[49m\u001b[38;5;241;43m0.10\u001b[39;49m\u001b[43m)\u001b[49m\u001b[43m,\u001b[49m\u001b[43m    \u001b[49m\u001b[38;5;66;43;03m# surface gravity log g\u001b[39;49;00m\n\u001b[0;32m      3\u001b[0m \u001b[43m                      \u001b[49m\u001b[43mz\u001b[49m\u001b[38;5;241;43m=\u001b[39;49m\u001b[43m(\u001b[49m\u001b[38;5;241;43m0.2\u001b[39;49m\u001b[43m,\u001b[49m\u001b[43m \u001b[49m\u001b[38;5;241;43m0.05\u001b[39;49m\u001b[43m)\u001b[49m\u001b[43m,\u001b[49m\u001b[43m    \u001b[49m\u001b[38;5;66;43;03m# \u001b[39;49;00m\n\u001b[0;32m      4\u001b[0m \u001b[43m                     \u001b[49m\u001b[43mfilters\u001b[49m\u001b[38;5;241;43m=\u001b[39;49m\u001b[43mfilters\u001b[49m\u001b[43m)\u001b[49m\n",
      "File \u001b[1;32m~\\Anaconda3\\lib\\site-packages\\ldtk\\ldtk.py:453\u001b[0m, in \u001b[0;36mLDPSetCreator.__init__\u001b[1;34m(self, teff, logg, z, filters, qe, limits, offline_mode, force_download, verbose, cache, photon_counting, lowres, dataset, save_memory)\u001b[0m\n\u001b[0;32m    450\u001b[0m         \u001b[38;5;28mself\u001b[39m\u001b[38;5;241m.\u001b[39mraw_spectra\u001b[38;5;241m.\u001b[39mappend(pf\u001b[38;5;241m.\u001b[39mgetdata(df))\n\u001b[0;32m    452\u001b[0m \u001b[38;5;28;01mif\u001b[39;00m filters \u001b[38;5;129;01mis\u001b[39;00m \u001b[38;5;129;01mnot\u001b[39;00m \u001b[38;5;28;01mNone\u001b[39;00m:\n\u001b[1;32m--> 453\u001b[0m     \u001b[38;5;28;43mself\u001b[39;49m\u001b[38;5;241;43m.\u001b[39;49m\u001b[43minit_filters\u001b[49m\u001b[43m(\u001b[49m\u001b[43mfilters\u001b[49m\u001b[43m)\u001b[49m\n",
      "File \u001b[1;32m~\\Anaconda3\\lib\\site-packages\\ldtk\\ldtk.py:479\u001b[0m, in \u001b[0;36mLDPSetCreator.init_filters\u001b[1;34m(self, filters)\u001b[0m\n\u001b[0;32m    476\u001b[0m \u001b[38;5;66;03m# Create n_filter interpolators\u001b[39;00m\n\u001b[0;32m    477\u001b[0m \u001b[38;5;66;03m# -----------------------------\u001b[39;00m\n\u001b[0;32m    478\u001b[0m points \u001b[38;5;241m=\u001b[39m array([[f\u001b[38;5;241m.\u001b[39mteff, f\u001b[38;5;241m.\u001b[39mlogg, f\u001b[38;5;241m.\u001b[39mz] \u001b[38;5;28;01mfor\u001b[39;00m f \u001b[38;5;129;01min\u001b[39;00m \u001b[38;5;28mself\u001b[39m\u001b[38;5;241m.\u001b[39mclient\u001b[38;5;241m.\u001b[39mfiles])\n\u001b[1;32m--> 479\u001b[0m \u001b[38;5;28mself\u001b[39m\u001b[38;5;241m.\u001b[39mitps \u001b[38;5;241m=\u001b[39m [NDI(points, \u001b[38;5;28mself\u001b[39m\u001b[38;5;241m.\u001b[39mfluxes[i, :, :]) \u001b[38;5;28;01mfor\u001b[39;00m i \u001b[38;5;129;01min\u001b[39;00m \u001b[38;5;28mrange\u001b[39m(\u001b[38;5;28mself\u001b[39m\u001b[38;5;241m.\u001b[39mnfilters)]\n",
      "File \u001b[1;32m~\\Anaconda3\\lib\\site-packages\\ldtk\\ldtk.py:479\u001b[0m, in \u001b[0;36m<listcomp>\u001b[1;34m(.0)\u001b[0m\n\u001b[0;32m    476\u001b[0m \u001b[38;5;66;03m# Create n_filter interpolators\u001b[39;00m\n\u001b[0;32m    477\u001b[0m \u001b[38;5;66;03m# -----------------------------\u001b[39;00m\n\u001b[0;32m    478\u001b[0m points \u001b[38;5;241m=\u001b[39m array([[f\u001b[38;5;241m.\u001b[39mteff, f\u001b[38;5;241m.\u001b[39mlogg, f\u001b[38;5;241m.\u001b[39mz] \u001b[38;5;28;01mfor\u001b[39;00m f \u001b[38;5;129;01min\u001b[39;00m \u001b[38;5;28mself\u001b[39m\u001b[38;5;241m.\u001b[39mclient\u001b[38;5;241m.\u001b[39mfiles])\n\u001b[1;32m--> 479\u001b[0m \u001b[38;5;28mself\u001b[39m\u001b[38;5;241m.\u001b[39mitps \u001b[38;5;241m=\u001b[39m [\u001b[43mNDI\u001b[49m\u001b[43m(\u001b[49m\u001b[43mpoints\u001b[49m\u001b[43m,\u001b[49m\u001b[43m \u001b[49m\u001b[38;5;28;43mself\u001b[39;49m\u001b[38;5;241;43m.\u001b[39;49m\u001b[43mfluxes\u001b[49m\u001b[43m[\u001b[49m\u001b[43mi\u001b[49m\u001b[43m,\u001b[49m\u001b[43m \u001b[49m\u001b[43m:\u001b[49m\u001b[43m,\u001b[49m\u001b[43m \u001b[49m\u001b[43m:\u001b[49m\u001b[43m]\u001b[49m\u001b[43m)\u001b[49m \u001b[38;5;28;01mfor\u001b[39;00m i \u001b[38;5;129;01min\u001b[39;00m \u001b[38;5;28mrange\u001b[39m(\u001b[38;5;28mself\u001b[39m\u001b[38;5;241m.\u001b[39mnfilters)]\n",
      "File \u001b[1;32minterpnd.pyx:280\u001b[0m, in \u001b[0;36mscipy.interpolate.interpnd.LinearNDInterpolator.__init__\u001b[1;34m()\u001b[0m\n",
      "File \u001b[1;32mqhull.pyx:1841\u001b[0m, in \u001b[0;36mscipy.spatial.qhull.Delaunay.__init__\u001b[1;34m()\u001b[0m\n",
      "File \u001b[1;32mqhull.pyx:357\u001b[0m, in \u001b[0;36mscipy.spatial.qhull._Qhull.__init__\u001b[1;34m()\u001b[0m\n",
      "\u001b[1;31mQhullError\u001b[0m: QH6013 qhull input error: input is less than 4-dimensional since all points have the same x coordinate 1.2e+04\n\nWhile executing:  | qhull d Q12 Qt Qz Qc Qbb\nOptions selected for Qhull 2019.1.r 2019/06/21:\n  run-id 1984244499  delaunay  Q12-allow-wide  Qtriangulate  Qz-infinity-point\n  Qcoplanar-keep  Qbbound-last  _pre-merge  _zero-centrum  Qinterior-keep\n  Pgood  _max-width  1  Error-roundoff 2.4e-11  _one-merge 2.2e-10\n  Visible-distance 1.5e-10  U-max-coplanar 1.5e-10  Width-outside 2.9e-10\n  _wide-facet 8.7e-10  _maxoutside 2.9e-10\n"
     ]
    }
   ],
   "source": [
    "sc = LDPSetCreator(teff=(27000, 1000),    # Define your star, and the code downloads the uncached stellar spectra from the Husser et al.\n",
    "                   logg=(3.60, 0.10),    # surface gravity log g\n",
    "                      z=(0.0, 0.05),    # \n",
    "                     filters=filters)"
   ]
  },
  {
   "cell_type": "code",
   "execution_count": null,
   "id": "433d4e92",
   "metadata": {},
   "outputs": [],
   "source": []
  }
 ],
 "metadata": {
  "kernelspec": {
   "display_name": "Python 3 (ipykernel)",
   "language": "python",
   "name": "python3"
  },
  "language_info": {
   "codemirror_mode": {
    "name": "ipython",
    "version": 3
   },
   "file_extension": ".py",
   "mimetype": "text/x-python",
   "name": "python",
   "nbconvert_exporter": "python",
   "pygments_lexer": "ipython3",
   "version": "3.9.12"
  }
 },
 "nbformat": 4,
 "nbformat_minor": 5
}
