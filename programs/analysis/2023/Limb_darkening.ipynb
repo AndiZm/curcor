{
 "cells": [
  {
   "cell_type": "code",
   "execution_count": 59,
   "id": "b85e54f3",
   "metadata": {},
   "outputs": [],
   "source": [
    "import numpy as np\n",
    "import matplotlib.pyplot as plt\n",
    "import matplotlib as mpl  \n",
    "from scipy.optimize import curve_fit\n",
    "from scipy.signal import butter, filtfilt, find_peaks\n",
    "import scipy.stats as stats\n",
    "from matplotlib.pyplot import cm\n",
    "import ephem\n",
    "import scipy.special as scp\n",
    "import sys\n",
    "from brokenaxes import brokenaxes\n",
    "from matplotlib.gridspec import GridSpec\n",
    "import scipy\n",
    "import math\n",
    "\n",
    "import utilities as uti\n",
    "import corrections as cor\n",
    "import geometry as geo\n",
    "\n",
    "from IPython.display import display, Latex\n",
    "import seaborn as sb\n",
    "from ldtk import LDPSetCreator, BoxcarFilter"
   ]
  },
  {
   "cell_type": "code",
   "execution_count": 53,
   "id": "69bf4c3e",
   "metadata": {},
   "outputs": [
    {
     "name": "stdout",
     "output_type": "stream",
     "text": [
      "0.4562592000000002\n"
     ]
    },
    {
     "data": {
      "image/png": "[encoded data removed]",
      "text/plain": [
       "<Figure size 432x288 with 1 Axes>"
      ]
     },
     "metadata": {
      "needs_background": "light"
     },
     "output_type": "display_data"
    }
   ],
   "source": [
    "# Test fuer LD mit interpolate (Mimosa Daten)\n",
    "x = [3.5, 4, 4.5, 5]\n",
    "y = [0.3789, 0.3409, 0.3196, 0.3081]\n",
    "\n",
    "plt.plot(x,y, marker='o',linestyle='')\n",
    "f = scipy.interpolate.interp1d(x,y,'cubic', bounds_error=False, fill_value='extrapolate')\n",
    "xnew = np.arange(0.0, 5.0, 0.01)\n",
    "ynew = f(xnew)\n",
    "plt.plot(xnew, ynew)\n",
    "x_want = f(2.9)\n",
    "print(x_want)"
   ]
  },
  {
   "cell_type": "code",
   "execution_count": 57,
   "id": "70f5ce7e",
   "metadata": {},
   "outputs": [
    {
     "name": "stdout",
     "output_type": "stream",
     "text": [
      "0.34567847039999994\n",
      "0.3453659584\n"
     ]
    },
    {
     "data": {
      "image/png": "[encoded data removed]",
      "text/plain": [
       "<Figure size 432x288 with 1 Axes>"
      ]
     },
     "metadata": {
      "needs_background": "light"
     },
     "output_type": "display_data"
    }
   ],
   "source": [
    "# Test fuer LD mit interpolate (Dschubba Daten)\n",
    "x = [3.5, 4, 4.5, 5]\n",
    "y1 = [0.3789, 0.3409, 0.3196, 0.3081]  # temp 27000\n",
    "y2 = [0.3791, 0.3403, 0.3166, 0.3031]  # temp 28000\n",
    "\n",
    "plt.plot(x,y1, marker='o',linestyle='', color='green')\n",
    "plt.plot(x,y2, marker='x',linestyle='', color='blue')\n",
    "f1 = scipy.interpolate.interp1d(x,y1,'cubic', bounds_error=False, fill_value='extrapolate')\n",
    "f2 = scipy.interpolate.interp1d(x,y2,'cubic', bounds_error=False, fill_value='extrapolate')\n",
    "xnew = np.arange(0.0, 5.0, 0.01)\n",
    "ynew = f(xnew)\n",
    "plt.plot(xnew, ynew)\n",
    "x_want1 = f1(3.92)\n",
    "x_want2 = f2(3.92)\n",
    "print(x_want1)\n",
    "print(x_want2)"
   ]
  },
  {
   "cell_type": "code",
   "execution_count": null,
   "id": "868a13c2",
   "metadata": {},
   "outputs": [],
   "source": []
  },
  {
   "cell_type": "code",
   "execution_count": 68,
   "id": "59280ffd",
   "metadata": {},
   "outputs": [],
   "source": [
    "# Tabelle mit LD coefficients einlesen\n",
    "table = np.loadtxt(\"tableu.txt\", delimiter=' ', dtype={'names': ('logg', 'temp', 'Z', 'xi', 'u', 'Filt', 'Met'),\n",
    "          'formats': (np.float, np.float, np.float, np.float, np.float, '|S15', '|S15')}, usecols=(1,2,3,4,5,6,7))"
   ]
  },
  {
   "cell_type": "code",
   "execution_count": 69,
   "id": "cb22b2fe",
   "metadata": {},
   "outputs": [
    {
     "name": "stdout",
     "output_type": "stream",
     "text": [
      "[(0. ,  3500., -5., 2., 0.6278, b'Kp', b'L')\n",
      " (0.5,  3500., -5., 2., 0.6161, b'Kp', b'L')\n",
      " (1. ,  3500., -5., 2., 0.5889, b'Kp', b'L') ...\n",
      " (5. , 35000.,  1., 2., 0.1334, b\"z'\", b'F')\n",
      " (5. , 37500.,  1., 2., 0.1226, b\"z'\", b'F')\n",
      " (5. , 40000.,  1., 2., 0.115 , b\"z'\", b'F')]\n",
      "540736\n"
     ]
    }
   ],
   "source": [
    "print(table)\n",
    "print(len(table))"
   ]
  },
  {
   "cell_type": "code",
   "execution_count": 70,
   "id": "2a7403d9",
   "metadata": {},
   "outputs": [
    {
     "name": "stdout",
     "output_type": "stream",
     "text": [
      "616\n",
      "3500.0\n"
     ]
    }
   ],
   "source": [
    "# Tabelle auf interessante Eintraege reduzieren\n",
    "tables = []\n",
    "for i in range(len(table)):\n",
    "    if table[i][2] == 0.0 and table[i][3] == 2.0 and table[i][5] == b'B' and table[i][6] == b'L':\n",
    "        tables.append(table[i])\n",
    "print(len(tables))\n",
    "print(tables[0][1])"
   ]
  },
  {
   "cell_type": "code",
   "execution_count": 136,
   "id": "de6f2ab6",
   "metadata": {},
   "outputs": [
    {
     "name": "stdout",
     "output_type": "stream",
     "text": [
      "3.6\n",
      "27000\n"
     ]
    }
   ],
   "source": [
    "star = 'Mimosa'\n",
    "bl_HBT = []\n",
    "# Open text file with star data from HBT\n",
    "f = open(\"stars_HBT.txt\")\n",
    "# Find line for the star\n",
    "line = f.readline()\n",
    "while star not in line:\n",
    "    line = f.readline()\n",
    "lam_HBT = line.split()[1]\n",
    "ang_HBT = uti.mas2rad(float(line.split()[2]))\n",
    "logg_star = line.split()[3]\n",
    "temp_star = line.split()[4]\n",
    "line = f.readline()\n",
    "while \"[end]\" not in line:\n",
    "    bl_HBT.append(float(line.split()[0]))\n",
    "    line = f.readline()\n",
    "f.close()\n",
    "\n",
    "print(logg_star)\n",
    "print(temp_star)\n",
    "temp_star = int(temp_star)\n"
   ]
  },
  {
   "cell_type": "code",
   "execution_count": 137,
   "id": "1bb0c638",
   "metadata": {},
   "outputs": [
    {
     "name": "stdout",
     "output_type": "stream",
     "text": [
      "4\n",
      "[]\n",
      "[]\n"
     ]
    }
   ],
   "source": [
    "\n",
    "logg = []; temp = []; u = []\n",
    "logg1 = []; u1 = []; logg2 = []; u2 = []\n",
    "for i in range(len(tables)):\n",
    "    if tables[i][1] == temp_star:\n",
    "        logg.append(tables[i][0])\n",
    "        u.append(tables[i][4])\n",
    "    elif tables[i][1] != temp_star:\n",
    "        temp1 = round(temp_star, -3)\n",
    "        if temp_star <= temp1:\n",
    "            temp2 = temp1 - 1000\n",
    "        elif temp_star >= temp1:\n",
    "            temp2 = temp1 + 1000\n",
    "            \n",
    "        if tables[i][1] == temp1: \n",
    "            logg1.append(tables[i][0])\n",
    "            u1.append(tables[i][4])\n",
    "        if tables[i][1] == temp2:\n",
    "            logg2.append(tables[i][0])\n",
    "            u2.append(tables[i][4])\n",
    "print(len(logg))\n",
    "        "
   ]
  },
  {
   "cell_type": "code",
   "execution_count": 141,
   "id": "9639c9cb",
   "metadata": {},
   "outputs": [
    {
     "name": "stdout",
     "output_type": "stream",
     "text": [
      "0.37\n"
     ]
    },
    {
     "data": {
      "image/png": "[encoded data removed]",
      "text/plain": [
       "<Figure size 432x288 with 1 Axes>"
      ]
     },
     "metadata": {
      "needs_background": "light"
     },
     "output_type": "display_data"
    }
   ],
   "source": [
    "xnew = np.arange(0.0, 5.0, 0.01)\n",
    "plt.figure('LD coefficient')\n",
    "plt.xlabel('logg'); plt.ylabel('u')\n",
    "if len(logg) > 0:\n",
    "    plt.plot(logg, u, marker='o',linestyle='', color='green')\n",
    "    f = scipy.interpolate.interp1d(logg, u,'cubic', bounds_error=False, fill_value='extrapolate')\n",
    "    ynew = f(xnew)\n",
    "    plt.plot(xnew, ynew, color='green')\n",
    "    x_want = round(float(f(logg_star)),2)\n",
    "    print(x_want)\n",
    "    \n",
    "elif len(logg) == 0:\n",
    "          plt.plot(logg1, u1, marker='o',linestyle='', color='green')\n",
    "          plt.plot(logg2, u2, marker='x',linestyle='', color='blue')\n",
    "          f1 = scipy.interpolate.interp1d(logg1, u1,'cubic', bounds_error=False, fill_value='extrapolate')\n",
    "          f2 = scipy.interpolate.interp1d(logg2, u2,'cubic', bounds_error=False, fill_value='extrapolate')\n",
    "          y1new = f1(xnew)\n",
    "          y2new = f2(xnew)\n",
    "          plt.plot(xnew, y1new, color='green')\n",
    "          plt.plot(xnew, y2new, color='blue')\n",
    "          x1_want = f1(logg_star)\n",
    "          x2_want = f2(logg_star)\n",
    "          print(round(float(x1_want),2))\n",
    "          print(round(float(x2_want),2))\n",
    "          x_want = round(float(np.mean([x1_want, x2_want])),2)\n",
    "          print(x_want)"
   ]
  },
  {
   "cell_type": "code",
   "execution_count": null,
   "id": "b5b60f51",
   "metadata": {},
   "outputs": [],
   "source": []
  }
 ],
 "metadata": {
  "kernelspec": {
   "display_name": "Python 3 (ipykernel)",
   "language": "python",
   "name": "python3"
  },
  "language_info": {
   "codemirror_mode": {
    "name": "ipython",
    "version": 3
   },
   "file_extension": ".py",
   "mimetype": "text/x-python",
   "name": "python",
   "nbconvert_exporter": "python",
   "pygments_lexer": "ipython3",
   "version": "3.9.12"
  }
 },
 "nbformat": 4,
 "nbformat_minor": 5
}
